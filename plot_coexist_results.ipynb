{
 "cells": [
  {
   "cell_type": "code",
   "execution_count": null,
   "metadata": {},
   "outputs": [],
   "source": [
    "import matplotlib.pyplot as plt\n",
    "from matplotlib.pyplot import figure\n",
    "\n",
    "import os\n",
    "import pandas as pd"
   ]
  },
  {
   "cell_type": "code",
   "execution_count": null,
   "metadata": {},
   "outputs": [],
   "source": [
    "# .py script\n",
    "wrkdir = os.getcwd()\n",
    "filename = \"200Days_UK.csv\"\n",
    "df = pd.read_csv(f\"{wrkdir}/results/{filename}\")"
   ]
  },
  {
   "cell_type": "code",
   "execution_count": null,
   "metadata": {
    "scrolled": false
   },
   "outputs": [],
   "source": [
    "for key in df.keys():\n",
    "    print(key)\n",
    "    plt.scatter(df.simDay, df[key])\n",
    "    plt.show()"
   ]
  },
  {
   "cell_type": "code",
   "execution_count": null,
   "metadata": {},
   "outputs": [],
   "source": [
    "def plot_it(df):\n",
    "    df_plot = df.copy(deep=True)\n",
    "\n",
    "    figure(num=None, figsize=(20, 10), dpi=80, facecolor='w', edgecolor='k')\n",
    "\n",
    "    #Set labels\n",
    "    if df[\"susceptible\"][0] == 1:\n",
    "        ylabel='Percent Population in Health State'\n",
    "        title = 'Normalized Population: State Change Over Time'  \n",
    "    else:\n",
    "        ylabel= 'Population in Health State'\n",
    "        title = 'Total Population: State Change Over Time'\n",
    "\n",
    "    states = [\"susceptible\", \"exposed\", \"asymptomatic\", \"infected1\", \"infected2\", \"recovered1\", \"recovered2\", \"deceased\"]\n",
    "    \n",
    "    df_plot.plot(x='simDay', y=states, \n",
    "                 xlabel='Simulation Day',\n",
    "                 ylabel= ylabel,\n",
    "                 title = title,\n",
    "                 figsize=(15,10))\n",
    "    plt.show()"
   ]
  },
  {
   "cell_type": "code",
   "execution_count": null,
   "metadata": {},
   "outputs": [],
   "source": [
    "plot_it(df)"
   ]
  }
 ],
 "metadata": {
  "kernelspec": {
   "display_name": "Python 3",
   "language": "python",
   "name": "python3"
  },
  "language_info": {
   "codemirror_mode": {
    "name": "ipython",
    "version": 3
   },
   "file_extension": ".py",
   "mimetype": "text/x-python",
   "name": "python",
   "nbconvert_exporter": "python",
   "pygments_lexer": "ipython3",
   "version": "3.8.5"
  }
 },
 "nbformat": 4,
 "nbformat_minor": 4
}

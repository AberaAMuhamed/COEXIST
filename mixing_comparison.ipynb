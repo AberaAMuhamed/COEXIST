{
 "cells": [
  {
   "cell_type": "code",
   "execution_count": null,
   "metadata": {},
   "outputs": [],
   "source": [
    "import pandas as pd\n",
    "import numpy as np\n",
    "import seaborn as sns\n",
    "import matplotlib.pyplot as plt"
   ]
  },
  {
   "cell_type": "code",
   "execution_count": null,
   "metadata": {},
   "outputs": [],
   "source": [
    "# Read-in\n",
    "df_southAfrica = pd.read_csv(\"southAfrica.csv\")\n",
    "df_zimbabwe = pd.read_csv(\"zimbabwe.csv\")\n",
    "df_zambia = pd.read_csv(\"zambia.csv\")\n",
    "\n",
    "# Zimbabwe missing \"age_group\" column, so add it here\n",
    "age_group = df_southAfrica[\"age_group\"]\n",
    "df_zimbabwe[\"age_group\"] = age_group"
   ]
  },
  {
   "cell_type": "code",
   "execution_count": null,
   "metadata": {},
   "outputs": [],
   "source": [
    "dfs = [df_southAfrica, df_zimbabwe, df_zambia]\n",
    "dfs = [df_southAfrica, df_zimbabwe]\n",
    "#catted = pd.concat([d.set_index('age_group') for d in dfs], axis=1, keys=['SA', 'ZM', 'ZA'])\n",
    "catted = pd.concat([d.set_index('age_group') for d in dfs], axis=1, keys=['SA', 'ZM'])\n",
    "catted = catted.rename_axis(['Source', 'Column'], axis=1)"
   ]
  },
  {
   "cell_type": "code",
   "execution_count": null,
   "metadata": {},
   "outputs": [],
   "source": [
    "corrmat = catted.corr()\n",
    "plt.rcParams[\"figure.figsize\"] = (40,40)\n",
    "f, ax = plt.subplots()\n",
    "\n",
    "sns.heatmap(corrmat, vmax=.8, square=True, annot = True)\n",
    "\n",
    "sources = corrmat.columns.get_level_values(0)\n",
    "for i, source in enumerate(sources):\n",
    "    if i and source != sources[i - 1]:\n",
    "        ax.axhline(len(sources) - i, c=\"w\")\n",
    "        ax.axvline(i, c=\"w\")\n",
    "f.tight_layout()"
   ]
  },
  {
   "cell_type": "code",
   "execution_count": null,
   "metadata": {},
   "outputs": [],
   "source": [
    "# extra code"
   ]
  },
  {
   "cell_type": "code",
   "execution_count": null,
   "metadata": {},
   "outputs": [],
   "source": [
    "df_southAfrica = pd.read_csv(\"southAfrica.csv\")\n",
    "df_zimbabwe = pd.read_csv(\"zimbabwe.csv\")\n",
    "df_zambia = pd.read_csv(\"zambia.csv\")\n",
    "\n",
    "# Zimbabwe missing \"age_group\" column, so add it here\n",
    "age_group = df_southAfrica[\"age_group\"]\n",
    "\n",
    "# ...and Re-index all dfs\n",
    "df_southAfrica = df_southAfrica.set_index('age_group')\n",
    "df_zambia = df_zambia.set_index('age_group')\n",
    "df_zimbabwe = df_zimbabwe.set_index(age_group)\n",
    "\n",
    "corr = np.corrcoef(df_zambia,df_southAfrica)\n",
    "correlation_mat = corr\n",
    "\n",
    "plt.rcParams[\"figure.figsize\"] = (40,40)\n",
    "\n",
    "sns.heatmap(correlation_mat, annot = True)\n",
    "#sns.heatmap(corr, vmax=.8, square=True)\n",
    "\n",
    "plt.show()"
   ]
  },
  {
   "cell_type": "code",
   "execution_count": null,
   "metadata": {},
   "outputs": [],
   "source": [
    "# Get element-wise average of the three mixing matrices to use as ETH mixing matrix\n",
    "\n",
    "sa = np.array(df_southAfrica)\n",
    "za = np.array(df_zambia)\n",
    "zm = np.array(df_zimbabwe)\n",
    "et = np.mean([sa,za, zm], axis=0)\n",
    "\n",
    "# and use zm 0-9 and 10-19 since NaN for sa and za\n",
    "et[:2] =zm[:2]"
   ]
  },
  {
   "cell_type": "code",
   "execution_count": null,
   "metadata": {},
   "outputs": [],
   "source": [
    "corr = np.corrcoef(df_zambia,df_southAfrica)\n",
    "for i in range(corr.shape[0]):\n",
    "    for j in range(corr.shape[0]):\n",
    "        print(f'{i}:{j} = {corr[i][j]}')"
   ]
  },
  {
   "cell_type": "code",
   "execution_count": null,
   "metadata": {},
   "outputs": [],
   "source": [
    "df_zambia.corrwith(df_zimbabwe, axis = 1)"
   ]
  },
  {
   "cell_type": "code",
   "execution_count": null,
   "metadata": {},
   "outputs": [],
   "source": [
    "df_zambia.compare(df_southAfrica)"
   ]
  },
  {
   "cell_type": "code",
   "execution_count": null,
   "metadata": {},
   "outputs": [],
   "source": [
    "df_zambia"
   ]
  },
  {
   "cell_type": "code",
   "execution_count": null,
   "metadata": {},
   "outputs": [],
   "source": [
    "df_southAfrica"
   ]
  }
 ],
 "metadata": {
  "kernelspec": {
   "display_name": "Python 3",
   "language": "python",
   "name": "python3"
  },
  "language_info": {
   "codemirror_mode": {
    "name": "ipython",
    "version": 3
   },
   "file_extension": ".py",
   "mimetype": "text/x-python",
   "name": "python",
   "nbconvert_exporter": "python",
   "pygments_lexer": "ipython3",
   "version": "3.8.5"
  }
 },
 "nbformat": 4,
 "nbformat_minor": 4
}
